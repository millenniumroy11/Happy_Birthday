{
 "cells": [
  {
   "cell_type": "code",
   "execution_count": 1,
   "id": "93d67b22",
   "metadata": {},
   "outputs": [
    {
     "name": "stdout",
     "output_type": "stream",
     "text": [
      "HAPPY BIRTHDAY \n",
      "\t\t\t\t\t\t\t\t\tFROM\n",
      "\t\t\t\t\t\t\t\t MILLENNIUM"
     ]
    }
   ],
   "source": [
    "from datetime import date\n",
    "\n",
    "t = date.today()\n",
    "dob = date(2001, 1, 1)\n",
    "bday = date(t.year, dob.month, dob.day)\n",
    "days_until_birthday = (bday - t).days\n",
    "\n",
    "x = [72, 65, 80, 80, 89, 32, 66, 73, 82, 84, 72, 68, 65, 89, 32, 10]\n",
    "y = [9, 9, 9, 9, 9, 9, 9, 9, 9, 70, 82, 79, 77, 10, 9, 9, 9, 9, 9, 9, 9, 9, 32, 77, 73, 76, 76, 69, 78, 78, 73, 85, 77]\n",
    "\n",
    "if days_until_birthday == 0:\n",
    "    for i in x:\n",
    "        print(chr(i), end=\"\")\n",
    "    for j in y:\n",
    "        print(chr(j), end=\"\")\n",
    "else:\n",
    "    print(\"There is still time, friend, come later.\")\n",
    "    for j in y:\n",
    "        print(chr(j), end=\"\")\n",
    "\n",
    "        \n",
    "# AVI = [65,86,73]\n"
   ]
  },
  {
   "cell_type": "code",
   "execution_count": 2,
   "id": "4ccb725b",
   "metadata": {},
   "outputs": [],
   "source": [
    "#Letter\tASCII Code\tBinary\tLetter\tASCII Code\tBinary\n",
    "#a\t097\t01100001\tA\t065\t01000001\n",
    "#b\t098\t01100010\tB\t066\t01000010\n",
    "#c\t099\t01100011\tC\t067\t01000011\n",
    "#d\t100\t01100100\tD\t068\t01000100\n",
    "#e\t101\t01100101\tE\t069\t01000101\n",
    "#f\t102\t01100110\tF\t070\t01000110\n",
    "#g\t103\t01100111\tG\t071\t01000111\n",
    "#h\t104\t01101000\tH\t072\t01001000\n",
    "#i\t105\t01101001\tI\t073\t01001001\n",
    "#j\t106\t01101010\tJ\t074\t01001010\n",
    "#k\t107\t01101011\tK\t075\t01001011\n",
    "#l\t108\t01101100\tL\t076\t01001100\n",
    "#m\t109\t01101101\tM\t077\t01001101\n",
    "#n\t110\t01101110\tN\t078\t01001110\n",
    "#o\t111\t01101111\tO\t079\t01001111\n",
    "#p\t112\t01110000\tP\t080\t01010000\n",
    "#q\t113\t01110001\tQ\t081\t01010001\n",
    "#r\t114\t01110010\tR\t082\t01010010\n",
    "#s\t115\t01110011\tS\t083\t01010011\n",
    "#t\t116\t01110100\tT\t084\t01010100\n",
    "#u\t117\t01110101\tU\t085\t01010101\n",
    "#v\t118\t01110110\tV\t086\t01010110\n",
    "#w\t119\t01110111\tW\t087\t01010111\n",
    "#x\t120\t01111000\tX\t088\t01011000\n",
    "#y\t121\t01111001\tY\t089\t01011001\n",
    "#z\t122\t01111010\tZ\t090\t01011010\n",
    "\n",
    "#TAB 9\n",
    "#SPACE 32"
   ]
  },
  {
   "cell_type": "code",
   "execution_count": null,
   "id": "ebdd1888",
   "metadata": {},
   "outputs": [],
   "source": []
  }
 ],
 "metadata": {
  "kernelspec": {
   "display_name": "Python 3 (ipykernel)",
   "language": "python",
   "name": "python3"
  },
  "language_info": {
   "codemirror_mode": {
    "name": "ipython",
    "version": 3
   },
   "file_extension": ".py",
   "mimetype": "text/x-python",
   "name": "python",
   "nbconvert_exporter": "python",
   "pygments_lexer": "ipython3",
   "version": "3.9.12"
  }
 },
 "nbformat": 4,
 "nbformat_minor": 5
}
